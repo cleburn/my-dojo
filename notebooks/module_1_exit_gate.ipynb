{
 "cells": [
  {
   "cell_type": "markdown",
   "id": "411b107e-e8cb-4cb1-9ca1-a5c4501b498f",
   "metadata": {
    "include-cell-in-app": true
   },
   "source": [
    "# Task 1: Load & Inspect"
   ]
  },
  {
   "cell_type": "code",
   "execution_count": 1,
   "id": "ef0febf1-abe8-4588-815f-c1510b187f6b",
   "metadata": {
    "include-cell-in-app": true
   },
   "outputs": [],
   "source": [
    "import pandas as pd"
   ]
  },
  {
   "cell_type": "code",
   "execution_count": 2,
   "id": "8e8aaf95-d271-43c2-be54-cf9162c87ff1",
   "metadata": {
    "include-cell-in-app": true
   },
   "outputs": [],
   "source": [
    "# Load your CSV into a DataFrame called 'df'\n",
    "# Print: shape, column names, data types\n",
    "# Display first 10 rows"
   ]
  },
  {
   "cell_type": "code",
   "execution_count": 3,
   "id": "48a580cd-4a78-4800-9018-e85847df07fe",
   "metadata": {
    "include-cell-in-app": true
   },
   "outputs": [],
   "source": [
    "df = pd.read_csv('../../austin-investment-analyzer/data/processed/final_neighborhoods.csv')"
   ]
  },
  {
   "cell_type": "code",
   "execution_count": 4,
   "id": "47a94718-4bea-4cdd-9e32-fc3c967a0f99",
   "metadata": {
    "include-cell-in-app": true
   },
   "outputs": [
    {
     "name": "stdout",
     "output_type": "stream",
     "text": [
      "\n",
      "==================================================\n",
      "Data Shape: \n",
      "(56, 337)\n",
      "\n",
      "==================================================\n",
      "Column Names: \n",
      "Index(['RegionID', 'SizeRank', 'RegionName', 'RegionType', 'StateName',\n",
      "       'State', 'City', 'Metro', 'CountyName', '2000-01-31',\n",
      "       ...\n",
      "       'median_monthly_str_income', 'median_bedrooms', 'occupancy_rate',\n",
      "       'listing_count', 'estimated_ltr_monthly_rent',\n",
      "       'str_rent_to_price_ratio', 'ltr_rent_to_price_ratio', 'monthly_costs',\n",
      "       'str_monthly_cash_flow', 'ltr_monthly_cash_flow'],\n",
      "      dtype='object', length=337)\n",
      "\n",
      "==================================================\n",
      "Data Types: \n",
      "RegionID                     int64\n",
      "SizeRank                     int64\n",
      "RegionName                  object\n",
      "RegionType                  object\n",
      "StateName                   object\n",
      "                            ...   \n",
      "str_rent_to_price_ratio    float64\n",
      "ltr_rent_to_price_ratio    float64\n",
      "monthly_costs              float64\n",
      "str_monthly_cash_flow      float64\n",
      "ltr_monthly_cash_flow      float64\n",
      "Length: 337, dtype: object\n",
      "\n",
      "==================================================\n",
      "First 10 Rows: \n",
      "   RegionID  SizeRank       RegionName    RegionType StateName State    City  \\\n",
      "0    416968       768    West Oak Hill  neighborhood        TX    TX  Austin   \n",
      "1    271652       992     Windsor Park  neighborhood        TX    TX  Austin   \n",
      "2    275057      1156  Pleasant Valley  neighborhood        TX    TX  Austin   \n",
      "3    271391      1205    Franklin Park  neighborhood        TX    TX  Austin   \n",
      "4    271353      1435         Downtown  neighborhood        TX    TX  Austin   \n",
      "5    271286      1742        Allandale  neighborhood        TX    TX  Austin   \n",
      "6    235693      1895       Montopolis  neighborhood        TX    TX  Austin   \n",
      "7    276473      1900     North Burnet  neighborhood        TX    TX  Austin   \n",
      "8    271311      1950        Brentwood  neighborhood        TX    TX  Austin   \n",
      "9    271588      2018        St. Johns  neighborhood        TX    TX  Austin   \n",
      "\n",
      "                              Metro     CountyName     2000-01-31  ...  \\\n",
      "0  Austin-Round Rock-Georgetown, TX  Travis County  225656.567739  ...   \n",
      "1  Austin-Round Rock-Georgetown, TX  Travis County            NaN  ...   \n",
      "2  Austin-Round Rock-Georgetown, TX  Travis County  116702.212787  ...   \n",
      "3  Austin-Round Rock-Georgetown, TX  Travis County   76944.526694  ...   \n",
      "4  Austin-Round Rock-Georgetown, TX  Travis County            NaN  ...   \n",
      "5  Austin-Round Rock-Georgetown, TX  Travis County            NaN  ...   \n",
      "6  Austin-Round Rock-Georgetown, TX  Travis County  131888.286377  ...   \n",
      "7  Austin-Round Rock-Georgetown, TX  Travis County            NaN  ...   \n",
      "8  Austin-Round Rock-Georgetown, TX  Travis County            NaN  ...   \n",
      "9  Austin-Round Rock-Georgetown, TX  Travis County   96631.459992  ...   \n",
      "\n",
      "   median_monthly_str_income  median_bedrooms  occupancy_rate  listing_count  \\\n",
      "0                     2700.0              2.0            42.0             61   \n",
      "1                     2019.6              2.0            36.0            173   \n",
      "2                      244.8              2.0             0.0             39   \n",
      "3                     2030.4              3.0            36.0             14   \n",
      "4                     5918.4              2.0             0.0            181   \n",
      "5                     3186.0              2.0            36.0             34   \n",
      "6                     2142.0              2.0            18.0            204   \n",
      "7                     2160.0              1.0            36.0            104   \n",
      "8                     1864.8              2.0            18.0            131   \n",
      "9                      399.6              1.0            12.0            115   \n",
      "\n",
      "   estimated_ltr_monthly_rent  str_rent_to_price_ratio  \\\n",
      "0                     1080.00                 5.476479   \n",
      "1                      807.84                 5.377839   \n",
      "2                       97.92                 1.103153   \n",
      "3                      812.16                 9.083894   \n",
      "4                     2367.36                10.872523   \n",
      "5                     1274.40                 4.971640   \n",
      "6                      856.80                 7.907988   \n",
      "7                      864.00                11.562765   \n",
      "8                      745.92                 3.681735   \n",
      "9                      159.84                 1.471015   \n",
      "\n",
      "   ltr_rent_to_price_ratio  monthly_costs  str_monthly_cash_flow  \\\n",
      "0                 2.190592    4480.002356           -1780.002356   \n",
      "1                 2.151136    3412.506605           -1392.906605   \n",
      "2                 0.441261    2016.469971           -1771.669971   \n",
      "3                 3.633558    2031.072669              -0.672669   \n",
      "4                 4.349009    4946.407613             971.992387   \n",
      "5                 1.988656    5823.204690           -2637.204690   \n",
      "6                 3.163195    2461.327340            -319.327340   \n",
      "7                 4.625106    1697.493023             462.506977   \n",
      "8                 1.472694    4602.520143           -2737.720143   \n",
      "9                 0.588406    2468.450019           -2068.850019   \n",
      "\n",
      "   ltr_monthly_cash_flow  \n",
      "0           -3400.002356  \n",
      "1           -2604.666605  \n",
      "2           -1918.549971  \n",
      "3           -1218.912669  \n",
      "4           -2579.047613  \n",
      "5           -4548.804690  \n",
      "6           -1604.527340  \n",
      "7            -833.493023  \n",
      "8           -3856.600143  \n",
      "9           -2308.610019  \n",
      "\n",
      "[10 rows x 337 columns]\n"
     ]
    }
   ],
   "source": [
    "print(f'\\n' + '='*50)\n",
    "print('Data Shape: ')\n",
    "print(df.shape)\n",
    "\n",
    "print(f'\\n' + '='*50)\n",
    "print(\"Column Names: \")\n",
    "print(df.columns)\n",
    "\n",
    "print(f'\\n' + '='*50)\n",
    "print(\"Data Types: \")\n",
    "print(df.dtypes)\n",
    "\n",
    "print(f'\\n' + '='*50)\n",
    "print(\"First 10 Rows: \")\n",
    "print(df.head(10))"
   ]
  },
  {
   "cell_type": "markdown",
   "id": "bed68ce6-e4e1-4d40-9033-0de823ac4e46",
   "metadata": {
    "include-cell-in-app": true
   },
   "source": [
    "# Task 2: Filter Rows - Single Condition "
   ]
  },
  {
   "cell_type": "code",
   "execution_count": 5,
   "id": "76984ad2-43a1-4756-a16d-21d79c4cc776",
   "metadata": {
    "include-cell-in-app": true
   },
   "outputs": [],
   "source": [
    "# Create new DataFrame with rows where [numeric column] > [some value]\n",
    "# Print how many rows match\n",
    "# Display first 5 rows of filtered data"
   ]
  },
  {
   "cell_type": "code",
   "execution_count": 6,
   "id": "83c93b61-4c3d-4e51-911a-30ee5eee2e41",
   "metadata": {
    "include-cell-in-app": true
   },
   "outputs": [
    {
     "name": "stdout",
     "output_type": "stream",
     "text": [
      "    RegionID  SizeRank         RegionName    RegionType StateName State  \\\n",
      "4     271353      1435           Downtown  neighborhood        TX    TX   \n",
      "7     276473      1900       North Burnet  neighborhood        TX    TX   \n",
      "13    271398      2375     Georgian Acres  neighborhood        TX    TX   \n",
      "17    271497      3054        North Lamar  neighborhood        TX    TX   \n",
      "29    271616      4342  Upper Boggy Creek  neighborhood        TX    TX   \n",
      "44    273354      7263     Coronado Hills  neighborhood        TX    TX   \n",
      "46    274045      8301              Holly  neighborhood        TX    TX   \n",
      "\n",
      "      City                             Metro     CountyName     2000-01-31  \\\n",
      "4   Austin  Austin-Round Rock-Georgetown, TX  Travis County            NaN   \n",
      "7   Austin  Austin-Round Rock-Georgetown, TX  Travis County            NaN   \n",
      "13  Austin  Austin-Round Rock-Georgetown, TX  Travis County   93127.205275   \n",
      "17  Austin  Austin-Round Rock-Georgetown, TX  Travis County   88922.739298   \n",
      "29  Austin  Austin-Round Rock-Georgetown, TX  Travis County            NaN   \n",
      "44  Austin  Austin-Round Rock-Georgetown, TX  Travis County  136996.284701   \n",
      "46  Austin  Austin-Round Rock-Georgetown, TX  Travis County            NaN   \n",
      "\n",
      "    ...  median_monthly_str_income  median_bedrooms  occupancy_rate  \\\n",
      "4   ...                    5918.40              2.0             0.0   \n",
      "7   ...                    2160.00              1.0            36.0   \n",
      "13  ...                    2921.40              1.0            50.0   \n",
      "17  ...                    3068.85              1.5            95.0   \n",
      "29  ...                    4989.60              2.0             0.0   \n",
      "44  ...                    7405.20              4.0            84.0   \n",
      "46  ...                    4788.00              2.0            42.0   \n",
      "\n",
      "    listing_count  estimated_ltr_monthly_rent  str_rent_to_price_ratio  \\\n",
      "4             181                     2367.36                10.872523   \n",
      "7             104                      864.00                11.562765   \n",
      "13             24                     1168.56                12.019055   \n",
      "17             10                     1227.54                12.600856   \n",
      "29             93                     1995.84                10.407420   \n",
      "44             26                     2962.08                28.821892   \n",
      "46            294                     1915.20                10.011092   \n",
      "\n",
      "    ltr_rent_to_price_ratio  monthly_costs  str_monthly_cash_flow  \\\n",
      "4                  4.349009    4946.407613             971.992387   \n",
      "7                  4.625106    1697.493023             462.506977   \n",
      "13                 4.807622    2208.699586             712.700414   \n",
      "17                 5.040342    2213.051711             855.798289   \n",
      "29                 4.162968    4356.508833             633.091167   \n",
      "44                11.528757    2334.695516            5070.504484   \n",
      "46                 4.004437    4345.989176             442.010824   \n",
      "\n",
      "    ltr_monthly_cash_flow  \n",
      "4            -2579.047613  \n",
      "7             -833.493023  \n",
      "13           -1040.139586  \n",
      "17            -985.511711  \n",
      "29           -2360.668833  \n",
      "44             627.384484  \n",
      "46           -2430.789176  \n",
      "\n",
      "[7 rows x 337 columns]\n",
      "\n",
      "==================================================\n",
      "First 5 Rows of Filtered Data: \n",
      "    RegionID  SizeRank         RegionName    RegionType StateName State  \\\n",
      "4     271353      1435           Downtown  neighborhood        TX    TX   \n",
      "7     276473      1900       North Burnet  neighborhood        TX    TX   \n",
      "13    271398      2375     Georgian Acres  neighborhood        TX    TX   \n",
      "17    271497      3054        North Lamar  neighborhood        TX    TX   \n",
      "29    271616      4342  Upper Boggy Creek  neighborhood        TX    TX   \n",
      "\n",
      "      City                             Metro     CountyName    2000-01-31  \\\n",
      "4   Austin  Austin-Round Rock-Georgetown, TX  Travis County           NaN   \n",
      "7   Austin  Austin-Round Rock-Georgetown, TX  Travis County           NaN   \n",
      "13  Austin  Austin-Round Rock-Georgetown, TX  Travis County  93127.205275   \n",
      "17  Austin  Austin-Round Rock-Georgetown, TX  Travis County  88922.739298   \n",
      "29  Austin  Austin-Round Rock-Georgetown, TX  Travis County           NaN   \n",
      "\n",
      "    ...  median_monthly_str_income  median_bedrooms  occupancy_rate  \\\n",
      "4   ...                    5918.40              2.0             0.0   \n",
      "7   ...                    2160.00              1.0            36.0   \n",
      "13  ...                    2921.40              1.0            50.0   \n",
      "17  ...                    3068.85              1.5            95.0   \n",
      "29  ...                    4989.60              2.0             0.0   \n",
      "\n",
      "    listing_count  estimated_ltr_monthly_rent  str_rent_to_price_ratio  \\\n",
      "4             181                     2367.36                10.872523   \n",
      "7             104                      864.00                11.562765   \n",
      "13             24                     1168.56                12.019055   \n",
      "17             10                     1227.54                12.600856   \n",
      "29             93                     1995.84                10.407420   \n",
      "\n",
      "    ltr_rent_to_price_ratio  monthly_costs  str_monthly_cash_flow  \\\n",
      "4                  4.349009    4946.407613             971.992387   \n",
      "7                  4.625106    1697.493023             462.506977   \n",
      "13                 4.807622    2208.699586             712.700414   \n",
      "17                 5.040342    2213.051711             855.798289   \n",
      "29                 4.162968    4356.508833             633.091167   \n",
      "\n",
      "    ltr_monthly_cash_flow  \n",
      "4            -2579.047613  \n",
      "7             -833.493023  \n",
      "13           -1040.139586  \n",
      "17            -985.511711  \n",
      "29           -2360.668833  \n",
      "\n",
      "[5 rows x 337 columns]\n"
     ]
    }
   ],
   "source": [
    "condition_df = df[df['str_monthly_cash_flow']> 200]\n",
    "print(condition_df)\n",
    "\n",
    "print(f'\\n' + '='*50)\n",
    "print(\"First 5 Rows of Filtered Data: \")\n",
    "print(condition_df.head(5))"
   ]
  },
  {
   "cell_type": "markdown",
   "id": "35667718-7fd0-4346-926d-489efd7a79f2",
   "metadata": {
    "include-cell-in-app": true
   },
   "source": [
    "# Task 3: Filter Rows - Multiple Conditions"
   ]
  },
  {
   "cell_type": "code",
   "execution_count": 7,
   "id": "1c29dd2d-cb95-4bd3-a11b-d86deaf278af",
   "metadata": {
    "include-cell-in-app": true
   },
   "outputs": [],
   "source": [
    "# Create new DataFrame with rows where:\n",
    "#   - [numeric column 1] > [value] AND\n",
    "#   - [numeric column 2] < [value]\n",
    "# Print shape of result"
   ]
  },
  {
   "cell_type": "code",
   "execution_count": 8,
   "id": "a32edc40-abc3-412f-a3df-34952b9d4ca6",
   "metadata": {
    "include-cell-in-app": true
   },
   "outputs": [
    {
     "name": "stdout",
     "output_type": "stream",
     "text": [
      "Empty DataFrame\n",
      "Columns: [RegionID, SizeRank, RegionName, RegionType, StateName, State, City, Metro, CountyName, 2000-01-31, 2000-02-29, 2000-03-31, 2000-04-30, 2000-05-31, 2000-06-30, 2000-07-31, 2000-08-31, 2000-09-30, 2000-10-31, 2000-11-30, 2000-12-31, 2001-01-31, 2001-02-28, 2001-03-31, 2001-04-30, 2001-05-31, 2001-06-30, 2001-07-31, 2001-08-31, 2001-09-30, 2001-10-31, 2001-11-30, 2001-12-31, 2002-01-31, 2002-02-28, 2002-03-31, 2002-04-30, 2002-05-31, 2002-06-30, 2002-07-31, 2002-08-31, 2002-09-30, 2002-10-31, 2002-11-30, 2002-12-31, 2003-01-31, 2003-02-28, 2003-03-31, 2003-04-30, 2003-05-31, 2003-06-30, 2003-07-31, 2003-08-31, 2003-09-30, 2003-10-31, 2003-11-30, 2003-12-31, 2004-01-31, 2004-02-29, 2004-03-31, 2004-04-30, 2004-05-31, 2004-06-30, 2004-07-31, 2004-08-31, 2004-09-30, 2004-10-31, 2004-11-30, 2004-12-31, 2005-01-31, 2005-02-28, 2005-03-31, 2005-04-30, 2005-05-31, 2005-06-30, 2005-07-31, 2005-08-31, 2005-09-30, 2005-10-31, 2005-11-30, 2005-12-31, 2006-01-31, 2006-02-28, 2006-03-31, 2006-04-30, 2006-05-31, 2006-06-30, 2006-07-31, 2006-08-31, 2006-09-30, 2006-10-31, 2006-11-30, 2006-12-31, 2007-01-31, 2007-02-28, 2007-03-31, 2007-04-30, 2007-05-31, 2007-06-30, 2007-07-31, ...]\n",
      "Index: []\n",
      "\n",
      "[0 rows x 337 columns]\n",
      "\n",
      "==================================================\n",
      "Task 3 Shape: \n",
      "(0, 337)\n"
     ]
    }
   ],
   "source": [
    "task3 = df[(df['str_monthly_cash_flow'] > 500) & (df['monthly_costs'] < 2000)]\n",
    "print(task3)\n",
    "\n",
    "print(f'\\n' + '='*50)\n",
    "print(\"Task 3 Shape: \")\n",
    "print(task3.shape)"
   ]
  },
  {
   "cell_type": "markdown",
   "id": "69eb154a-ca9e-41e5-a600-87c891ec3924",
   "metadata": {
    "include-cell-in-app": true
   },
   "source": [
    "# Task 4: Select Columns"
   ]
  },
  {
   "cell_type": "code",
   "execution_count": 9,
   "id": "195b5c39-3bc4-4712-836d-c7f1ff91f73b",
   "metadata": {
    "include-cell-in-app": true
   },
   "outputs": [],
   "source": [
    "# Create new DataFrame with only 3 columns of your choice\n",
    "# Display first 5 rows"
   ]
  },
  {
   "cell_type": "code",
   "execution_count": 10,
   "id": "6ad09652-eb89-4df9-95b6-047305ea6455",
   "metadata": {
    "include-cell-in-app": true
   },
   "outputs": [
    {
     "name": "stdout",
     "output_type": "stream",
     "text": [
      "   monthly_costs  str_monthly_cash_flow  ltr_monthly_cash_flow\n",
      "0    4480.002356           -1780.002356           -3400.002356\n",
      "1    3412.506605           -1392.906605           -2604.666605\n",
      "2    2016.469971           -1771.669971           -1918.549971\n",
      "3    2031.072669              -0.672669           -1218.912669\n",
      "4    4946.407613             971.992387           -2579.047613\n"
     ]
    }
   ],
   "source": [
    "task4 = df[['monthly_costs', 'str_monthly_cash_flow', 'ltr_monthly_cash_flow']]\n",
    "print(task4.head(5))"
   ]
  },
  {
   "cell_type": "markdown",
   "id": "9cc39cbf-211b-4380-97ac-dae62bf9171d",
   "metadata": {
    "include-cell-in-app": true
   },
   "source": [
    "# Task 5: Create New Column "
   ]
  },
  {
   "cell_type": "code",
   "execution_count": 11,
   "id": "993e6ba7-2de6-4f4c-9017-30a267e936e2",
   "metadata": {
    "include-cell-in-app": true
   },
   "outputs": [],
   "source": [
    "# Create a new column that is calculated from existing columns\n",
    "# Example: 'price_per_bedroom' = price / bedrooms\n",
    "# Or: 'total_rooms' = bedrooms + bathrooms\n",
    "# Display first 5 rows showing new column"
   ]
  },
  {
   "cell_type": "code",
   "execution_count": 12,
   "id": "eed96408-4bda-468f-bab5-4db6d3fa4a05",
   "metadata": {
    "include-cell-in-app": true
   },
   "outputs": [
    {
     "data": {
      "text/plain": [
       "0    1620.00\n",
       "1    1211.76\n",
       "2     146.88\n",
       "3    1218.24\n",
       "4    3551.04\n",
       "Name: str_vs_ltr_cashflow_delta, dtype: float64"
      ]
     },
     "execution_count": 12,
     "metadata": {},
     "output_type": "execute_result"
    }
   ],
   "source": [
    "df['str_vs_ltr_cashflow_delta'] = df['str_monthly_cash_flow'] - df['ltr_monthly_cash_flow']\n",
    "df['str_vs_ltr_cashflow_delta'].head(5)"
   ]
  },
  {
   "cell_type": "markdown",
   "id": "c4397dc2-a146-4e77-8721-89d61da1c614",
   "metadata": {
    "include-cell-in-app": true
   },
   "source": [
    "# Task 6: Basic Aggregations"
   ]
  },
  {
   "cell_type": "code",
   "execution_count": 13,
   "id": "053855c9-7193-4286-bac8-acd051182b44",
   "metadata": {
    "include-cell-in-app": true
   },
   "outputs": [],
   "source": [
    "# Calculate and print:\n",
    "# - Mean of a numeric column\n",
    "# - Median of a numeric column\n",
    "# - Standard deviation of a numeric column\n",
    "# - Min and max values"
   ]
  },
  {
   "cell_type": "code",
   "execution_count": 14,
   "id": "2ede992c-7c37-4514-8518-809508c942f9",
   "metadata": {
    "include-cell-in-app": true
   },
   "outputs": [
    {
     "name": "stdout",
     "output_type": "stream",
     "text": [
      "New Column Mean: \n",
      "1386.9883928571428\n",
      "\n",
      "==================================================\n",
      "New Column Median: \n",
      "1290.6\n",
      "\n",
      "==================================================\n",
      "New Column Standard Deviation: \n",
      "854.6805889002187\n",
      "\n",
      "==================================================\n",
      "New Column Min: \n",
      "86.94000000000005\n",
      "\n",
      "==================================================\n",
      "New Column Max: \n",
      "4443.12\n"
     ]
    }
   ],
   "source": [
    "print(\"New Column Mean: \")\n",
    "print(df['str_vs_ltr_cashflow_delta'].mean())\n",
    "\n",
    "print(f'\\n' + '='*50)\n",
    "print(\"New Column Median: \")\n",
    "print(df['str_vs_ltr_cashflow_delta'].median())\n",
    "\n",
    "print(f'\\n' + '='*50)\n",
    "print(\"New Column Standard Deviation: \")\n",
    "print(df['str_vs_ltr_cashflow_delta'].std())\n",
    "\n",
    "print(f'\\n' + '='*50)\n",
    "print(\"New Column Min: \")\n",
    "print(df['str_vs_ltr_cashflow_delta'].min())\n",
    "\n",
    "print(f'\\n' + '='*50)\n",
    "print(\"New Column Max: \")\n",
    "print(df['str_vs_ltr_cashflow_delta'].max())"
   ]
  },
  {
   "cell_type": "markdown",
   "id": "a3b83490-1913-498a-a309-87e4aa4c9b78",
   "metadata": {
    "include-cell-in-app": true
   },
   "source": [
    "# Task 7: Group By and Aggregate"
   ]
  },
  {
   "cell_type": "code",
   "execution_count": 15,
   "id": "c8e01f7c-4d94-4dd2-93c6-c40acd335d26",
   "metadata": {
    "include-cell-in-app": true
   },
   "outputs": [],
   "source": [
    "# Group by a categorical column (neighborhood, room_type, etc.)\n",
    "# Calculate mean of a numeric column for each group\n",
    "# Display results"
   ]
  },
  {
   "cell_type": "code",
   "execution_count": 16,
   "id": "bae88a74-cecf-4279-b0dc-f81ea8deae6e",
   "metadata": {
    "include-cell-in-app": true
   },
   "outputs": [
    {
     "name": "stdout",
     "output_type": "stream",
     "text": [
      "RegionName\n",
      "Allandale              -2637.204690\n",
      "Barton Creek          -15841.967681\n",
      "Barton Hills           -4502.526495\n",
      "Bouldin Creek          -2746.557413\n",
      "Brentwood              -2737.720143\n",
      "Brushy Bend Park       -5684.270203\n",
      "Bryker Woods           -8546.335465\n",
      "Central East Austin     -253.399564\n",
      "Chestnut               -1488.394228\n",
      "Coronado Hills          5070.504484\n",
      "Crestview              -2458.084771\n",
      "Dawson                 -1257.599484\n",
      "Downtown                 971.992387\n",
      "East Cesar Chavez       -852.617060\n",
      "East Congress          -2706.786472\n",
      "Fern Bluff             -2182.624664\n",
      "Franklin Park             -0.672669\n",
      "Galindo                -3053.969670\n",
      "Georgian Acres           712.700414\n",
      "Govalle                 -757.535082\n",
      "Hancock                -2138.110931\n",
      "Highland                -926.169760\n",
      "Holly                    442.010824\n",
      "Hyde Park               -920.901285\n",
      "Johnston Terrace        -479.356840\n",
      "Kensington Place       -1180.449622\n",
      "MLK                     -660.464401\n",
      "Mckinney                -706.387505\n",
      "Montopolis              -319.327340\n",
      "Mueller                -4321.255356\n",
      "North Burnet             462.506977\n",
      "North Lamar              855.798289\n",
      "North Loop             -3242.004741\n",
      "North Shoal Creek      -1897.596684\n",
      "North University        -458.035792\n",
      "Old Enfield            -7512.732500\n",
      "Old West Austin        -4206.919774\n",
      "Parker Lane              194.918845\n",
      "Pioneer Crossing       -1745.375412\n",
      "Pleasant Valley        -1771.669971\n",
      "Rosedale               -4409.576253\n",
      "Rosewood                -677.528479\n",
      "Shady Hollow           -2795.592671\n",
      "South Lamar            -2385.533049\n",
      "South Manchaca         -1612.949828\n",
      "St. Edwards            -1991.593044\n",
      "St. Johns              -2068.850019\n",
      "University Hills       -1965.000201\n",
      "Upper Boggy Creek        633.091167\n",
      "West Congress          -1066.581025\n",
      "West Oak Hill          -1780.002356\n",
      "Westgate               -3679.239037\n",
      "Windsor Hills          -1744.368889\n",
      "Windsor Park           -1392.906605\n",
      "Wooten                  -135.444628\n",
      "Zilker                 -3416.739670\n",
      "Name: str_monthly_cash_flow, dtype: float64\n"
     ]
    }
   ],
   "source": [
    "print(df.groupby('RegionName')['str_monthly_cash_flow'].mean())"
   ]
  },
  {
   "cell_type": "markdown",
   "id": "07d4a0d2-a87d-4f0b-9aea-4a41a9b09583",
   "metadata": {
    "include-cell-in-app": true
   },
   "source": [
    "# Task 8: Sort and Get Top N"
   ]
  },
  {
   "cell_type": "code",
   "execution_count": 17,
   "id": "1550dbf3-f43a-448e-8fc9-5c0c58bc3243",
   "metadata": {
    "include-cell-in-app": true
   },
   "outputs": [],
   "source": [
    "# Sort DataFrame by a column (descending)\n",
    "# Get top 10 rows\n",
    "# Display them"
   ]
  },
  {
   "cell_type": "code",
   "execution_count": 18,
   "id": "04d9b991-4175-4b77-b4c9-d6f97dc2f626",
   "metadata": {
    "include-cell-in-app": true
   },
   "outputs": [
    {
     "name": "stdout",
     "output_type": "stream",
     "text": [
      "    RegionID  SizeRank         RegionName    RegionType StateName State  \\\n",
      "44    273354      7263     Coronado Hills  neighborhood        TX    TX   \n",
      "4     271353      1435           Downtown  neighborhood        TX    TX   \n",
      "17    271497      3054        North Lamar  neighborhood        TX    TX   \n",
      "13    271398      2375     Georgian Acres  neighborhood        TX    TX   \n",
      "29    271616      4342  Upper Boggy Creek  neighborhood        TX    TX   \n",
      "7     276473      1900       North Burnet  neighborhood        TX    TX   \n",
      "46    274045      8301              Holly  neighborhood        TX    TX   \n",
      "12    271529      2318        Parker Lane  neighborhood        TX    TX   \n",
      "3     271391      1205      Franklin Park  neighborhood        TX    TX   \n",
      "16    271665      3001             Wooten  neighborhood        TX    TX   \n",
      "\n",
      "      City                             Metro     CountyName     2000-01-31  \\\n",
      "44  Austin  Austin-Round Rock-Georgetown, TX  Travis County  136996.284701   \n",
      "4   Austin  Austin-Round Rock-Georgetown, TX  Travis County            NaN   \n",
      "17  Austin  Austin-Round Rock-Georgetown, TX  Travis County   88922.739298   \n",
      "13  Austin  Austin-Round Rock-Georgetown, TX  Travis County   93127.205275   \n",
      "29  Austin  Austin-Round Rock-Georgetown, TX  Travis County            NaN   \n",
      "7   Austin  Austin-Round Rock-Georgetown, TX  Travis County            NaN   \n",
      "46  Austin  Austin-Round Rock-Georgetown, TX  Travis County            NaN   \n",
      "12  Austin  Austin-Round Rock-Georgetown, TX  Travis County  103037.935303   \n",
      "3   Austin  Austin-Round Rock-Georgetown, TX  Travis County   76944.526694   \n",
      "16  Austin  Austin-Round Rock-Georgetown, TX  Travis County  152315.316047   \n",
      "\n",
      "    ...  median_bedrooms  occupancy_rate  listing_count  \\\n",
      "44  ...              4.0            84.0             26   \n",
      "4   ...              2.0             0.0            181   \n",
      "17  ...              1.5            95.0             10   \n",
      "13  ...              1.0            50.0             24   \n",
      "29  ...              2.0             0.0             93   \n",
      "7   ...              1.0            36.0            104   \n",
      "46  ...              2.0            42.0            294   \n",
      "12  ...              2.0            24.0             52   \n",
      "3   ...              3.0            36.0             14   \n",
      "16  ...              2.0            60.0             68   \n",
      "\n",
      "    estimated_ltr_monthly_rent  str_rent_to_price_ratio  \\\n",
      "44                     2962.08                28.821892   \n",
      "4                      2367.36                10.872523   \n",
      "17                     1227.54                12.600856   \n",
      "13                     1168.56                12.019055   \n",
      "29                     1995.84                10.407420   \n",
      "7                       864.00                11.562765   \n",
      "46                     1915.20                10.011092   \n",
      "12                     1123.20                 9.764728   \n",
      "3                       812.16                 9.083894   \n",
      "16                     1218.24                 8.699996   \n",
      "\n",
      "    ltr_rent_to_price_ratio  monthly_costs  str_monthly_cash_flow  \\\n",
      "44                11.528757    2334.695516            5070.504484   \n",
      "4                  4.349009    4946.407613             971.992387   \n",
      "17                 5.040342    2213.051711             855.798289   \n",
      "13                 4.807622    2208.699586             712.700414   \n",
      "29                 4.162968    4356.508833             633.091167   \n",
      "7                  4.625106    1697.493023             462.506977   \n",
      "46                 4.004437    4345.989176             442.010824   \n",
      "12                 3.905891    2613.081155             194.918845   \n",
      "3                  3.633558    2031.072669              -0.672669   \n",
      "16                 3.479998    3181.044628            -135.444628   \n",
      "\n",
      "    ltr_monthly_cash_flow  str_vs_ltr_cashflow_delta  \n",
      "44             627.384484                    4443.12  \n",
      "4            -2579.047613                    3551.04  \n",
      "17            -985.511711                    1841.31  \n",
      "13           -1040.139586                    1752.84  \n",
      "29           -2360.668833                    2993.76  \n",
      "7             -833.493023                    1296.00  \n",
      "46           -2430.789176                    2872.80  \n",
      "12           -1489.881155                    1684.80  \n",
      "3            -1218.912669                    1218.24  \n",
      "16           -1962.804628                    1827.36  \n",
      "\n",
      "[10 rows x 338 columns]\n"
     ]
    }
   ],
   "source": [
    "print(df.sort_values('str_monthly_cash_flow', ascending=False).head(10))"
   ]
  },
  {
   "cell_type": "markdown",
   "id": "106149e4-7d59-4774-b3d5-008ed8e77836",
   "metadata": {
    "include-cell-in-app": true
   },
   "source": [
    "# Task 9: Handle Missing Values"
   ]
  },
  {
   "cell_type": "code",
   "execution_count": 19,
   "id": "ede6d2c4-5317-4a60-80fd-9b7da53135c1",
   "metadata": {
    "include-cell-in-app": true
   },
   "outputs": [],
   "source": [
    "# Check for missing values in your DataFrame\n",
    "# Print count of missing values per column\n",
    "# Drop rows with any missing values OR fill them (your choice)\n",
    "# Print new shape"
   ]
  },
  {
   "cell_type": "code",
   "execution_count": 34,
   "id": "c249e65a-0f25-4cf6-b533-d9d088a1000c",
   "metadata": {
    "include-cell-in-app": true
   },
   "outputs": [
    {
     "name": "stdout",
     "output_type": "stream",
     "text": [
      "\n",
      "==================================================\n",
      "Count of Missing Values Per Column: \n",
      "RegionID                     0\n",
      "SizeRank                     0\n",
      "RegionName                   0\n",
      "RegionType                   0\n",
      "StateName                    0\n",
      "                            ..\n",
      "ltr_rent_to_price_ratio      0\n",
      "monthly_costs                0\n",
      "str_monthly_cash_flow        0\n",
      "ltr_monthly_cash_flow        0\n",
      "str_vs_ltr_cashflow_delta    0\n",
      "Length: 338, dtype: int64\n",
      "\n",
      "==================================================\n",
      "New Shape: \n",
      "(56, 338)\n"
     ]
    }
   ],
   "source": [
    "print(f'\\n' + '='*50)\n",
    "print(\"Count of Missing Values Per Column: \")\n",
    "print(df.isna().sum())\n",
    "\n",
    "df.fillna(0, inplace=True)\n",
    "\n",
    "print(f'\\n' + '='*50)\n",
    "print(\"New Shape: \")\n",
    "print(df.shape)"
   ]
  },
  {
   "cell_type": "markdown",
   "id": "251b313e-2092-4338-b1fd-42f6d9322aa3",
   "metadata": {
    "include-cell-in-app": true
   },
   "source": [
    "# Task 10: Save Processed Data"
   ]
  },
  {
   "cell_type": "code",
   "execution_count": 35,
   "id": "73b29fc6-04a5-417e-8329-0ebadb7b40c1",
   "metadata": {
    "include-cell-in-app": true
   },
   "outputs": [],
   "source": [
    "# Save your filtered/processed DataFrame to a new CSV\n",
    "# Filename: 'processed_data.csv'"
   ]
  },
  {
   "cell_type": "code",
   "execution_count": 36,
   "id": "e50178f1-479f-4c00-aef9-2d5a32937a75",
   "metadata": {
    "include-cell-in-app": true
   },
   "outputs": [],
   "source": [
    "df.to_csv('processed_data.csv', index=False)"
   ]
  },
  {
   "cell_type": "markdown",
   "id": "73f6e341-12c3-483a-aa0f-928c434671fd",
   "metadata": {
    "include-cell-in-app": true
   },
   "source": [
    "# Part 2: Conceptual Check"
   ]
  },
  {
   "cell_type": "markdown",
   "id": "92f3fca3-8e87-4581-b383-c90c30a4e2d9",
   "metadata": {
    "include-cell-in-app": true
   },
   "source": [
    "**Question 1: Data Structures**\n",
    "Explain the difference between a Python list and a pandas DataFrame. When would you use each?\n",
    "\n",
    "*A python list is a single axis/row store of data, whereas pandas DataFrames allow x,y axis for rows and columns. You would use a list for simple record keeping. You would use a DataFrame for complex data with multiple pieces of interacting information.*\n",
    "\n",
    "**Question 2: Filtering Logic**\n",
    "What does this code do: `df[(df['price'] > 100) & (df['bedrooms'] >= 2)]`\n",
    "Explain the `&` symbol and why conditions need parentheses.\n",
    "\n",
    "*It creates a new dataframe that shows only the rows that meet both column conditions, of price greater than 100 as well as bedrooms greater than or equal to 2. The and symbol means the new dataframe must meet both conditions. The parenthesis indicate it is 2 conditions rather than a column within a column.*\n",
    "\n",
    "**Question 3: Groupby Operation**\n",
    "Explain to a non-technical person what `df.groupby('neighborhood').mean()` does.\n",
    "Use an analogy (like organizing books by genre, calculating average price per store, etc.)\n",
    "\n",
    "*This method allows you to take a column of interest and apply one function to every row in the column, all at once. It's like hitting reply all to an email instead of typing every individual email address.*\n",
    "\n",
    "**Question 4: Statistics Basics**\n",
    "Define in plain English:\n",
    "\n",
    "- Mean\n",
    "- Median\n",
    "- Standard deviation\n",
    "\n",
    "When would median be more useful than mean?\n",
    "\n",
    "*Mean is the average of all numbers combines. Median is exactly in the middle between highest and lowest value. Standard Deviation is (I'm not super clear on this). Median would be more useful than mean in instances with extreme outliers that don't give an accurate representation of the bulk of the data yet they significantly impact the mean. This happens a lot in housing data where a few expensive homes skew the insights regarding the majority of the homes.*\n",
    "\n",
    "**Question 5: Missing Data**\n",
    "You have a dataset with missing values. Describe two strategies for handling them and when you'd use each.\n",
    "\n",
    "*For missing data, you could leave empty as NaN, or you could forward/back fill. Depending on the nature of the project and data, sometimes empty values need to be preserved for accuracy at later steps in the project. But for most accounting and financial analysis, you may prefer to fill those missing values.*"
   ]
  },
  {
   "cell_type": "markdown",
   "id": "d9cdace9-1648-4d5c-8f43-05f390f4af8c",
   "metadata": {
    "include-cell-in-app": true
   },
   "source": [
    "## Part 3: Gap Analysis (15-30 min)\n",
    "\n",
    "**Review your results honestly. Answer these questions:**\n",
    "\n",
    "### What's Automatic Now?\n",
    "\n",
    "**List Tier 1 skills that felt easy (no lookup needed):**\n",
    "\n",
    "- Example: \"Loading CSV, displaying head, getting shape\"\n",
    "- Example: \"Filtering with single condition\"\n",
    "- Everything felt natural with the initial setup, from pd.read_csv(pathway) through all of the quick commands to give me a clear mental picture of the data's size, shape, columns names as well as dtypes for each column.\n",
    "\n",
    "---\n",
    "\n",
    "### What Still Requires Lookup?\n",
    "\n",
    "**List skills where you needed docs or got stuck:**\n",
    "\n",
    "- Example: \"Groupby syntax - kept forgetting parentheses\"\n",
    "- Example: \"Multiple condition filtering - & vs 'and'\"\n",
    "- I needed to use panda docs for finding missing values, as well as an option for dealing with those missing values. I chose .ffill(). I also needed confirmation that 'to_csv()' was the correct way to save the new data frame. But that is only because I haven't manually done those before, they will click pretty fast as it becomes more routine.\n",
    "\n",
    "---\n",
    "\n",
    "### What Conceptual Gaps Remain?\n",
    "\n",
    "**Topics that feel fuzzy or incomplete:**\n",
    "\n",
    "- Example: \"Don't fully understand when to use groupby vs filter\"\n",
    "- Example: \"Missing data strategies - not sure when to drop vs fill\"\n",
    "- I felt fuzzy on both of those examples. But it might be because I'm following the instructions of what to find and filter and sort by. However as the tasks progressed, I began to feel a greater sense of agency for the data. Which makes it easier for me to visualize the data and sort of picture what I want to get from it, which then makes it easier to connect those mental images of how I want the rows and columns to move to how those movements pair up with the pandas commands that create the changes."
   ]
  }
 ],
 "metadata": {
  "kernelspec": {
   "display_name": "Python (base)",
   "language": "python",
   "name": "base"
  },
  "language_info": {
   "codemirror_mode": {
    "name": "ipython",
    "version": 3
   },
   "file_extension": ".py",
   "mimetype": "text/x-python",
   "name": "python",
   "nbconvert_exporter": "python",
   "pygments_lexer": "ipython3",
   "version": "3.13.5"
  }
 },
 "nbformat": 4,
 "nbformat_minor": 5
}
